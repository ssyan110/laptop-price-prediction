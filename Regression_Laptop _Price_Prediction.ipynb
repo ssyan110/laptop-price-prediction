{
 "cells": [
  {
   "cell_type": "markdown",
   "metadata": {},
   "source": [
    "# Quesion 1: Regression - Laptop Price Prediction"
   ]
  },
  {
   "cell_type": "markdown",
   "metadata": {},
   "source": [
    "## Set up environment"
   ]
  },
  {
   "cell_type": "code",
   "execution_count": 1,
   "metadata": {},
   "outputs": [],
   "source": [
    "import matplotlib.pyplot as plt\n",
    "import seaborn as sns\n",
    "\n",
    "from pyspark.sql import SparkSession\n",
    "from pyspark.sql.functions import col, count, when, isnull\n",
    "from pyspark.ml.feature import StringIndexer, OneHotEncoder, VectorAssembler\n",
    "from pyspark.ml.regression import LinearRegression, RandomForestRegressor\n",
    "from pyspark.ml.evaluation import RegressionEvaluator\n",
    "from pyspark.ml import Pipeline"
   ]
  },
  {
   "cell_type": "code",
   "execution_count": 2,
   "metadata": {},
   "outputs": [
    {
     "name": "stderr",
     "output_type": "stream",
     "text": [
      "25/01/27 11:09:11 WARN Utils: Your hostname, Adams-MacBook-Pro.local resolves to a loopback address: 127.0.0.1; using 172.20.10.10 instead (on interface en0)\n",
      "25/01/27 11:09:11 WARN Utils: Set SPARK_LOCAL_IP if you need to bind to another address\n",
      "Setting default log level to \"WARN\".\n",
      "To adjust logging level use sc.setLogLevel(newLevel). For SparkR, use setLogLevel(newLevel).\n",
      "25/01/27 11:09:12 WARN NativeCodeLoader: Unable to load native-hadoop library for your platform... using builtin-java classes where applicable\n"
     ]
    }
   ],
   "source": [
    "spark = SparkSession.builder \\\n",
    "    .appName(\"LaptopPricePrediction\") \\\n",
    "    .getOrCreate()"
   ]
  },
  {
   "cell_type": "markdown",
   "metadata": {},
   "source": [
    "## Load data"
   ]
  },
  {
   "cell_type": "code",
   "execution_count": 3,
   "metadata": {},
   "outputs": [],
   "source": [
    "data_path = \"/Users/ssyan110/Codes/Big_data_in_machine_learning/Final/Data/laptop_price_clean.csv\"\n",
    "data = spark.read.csv(data_path, header=True, inferSchema=True)"
   ]
  },
  {
   "cell_type": "markdown",
   "metadata": {},
   "source": [
    "## Data inspection"
   ]
  },
  {
   "cell_type": "code",
   "execution_count": 4,
   "metadata": {},
   "outputs": [
    {
     "name": "stdout",
     "output_type": "stream",
     "text": [
      "+-------+---------+---+-----+------+-----------+------------+----------+-----------+-------------+---+---+---------+------------------+\n",
      "|Company| TypeName|Ram|OpSys|Weight|Price_euros|      Screen|IPS Screen| Screen PPI|    Cpu_brand|HDD|SSD|Gpu brand|                os|\n",
      "+-------+---------+---+-----+------+-----------+------------+----------+-----------+-------------+---+---+---------+------------------+\n",
      "|  Apple|Ultrabook|  8|macOS|  1.37|    1339.69|NormalScreen|       Yes|226.9830047|Intel Core i5|  0|128|    Intel|               Mac|\n",
      "|  Apple|Ultrabook|  8|macOS|  1.34|     898.94|NormalScreen|        No|127.6779401|Intel Core i5|  0|  0|    Intel|               Mac|\n",
      "|     HP| Notebook|  8|No OS|  1.86|      575.0|NormalScreen|        No|141.2119981|Intel Core i5|  0|256|    Intel|Others/No OS/Linux|\n",
      "|  Apple|Ultrabook| 16|macOS|  1.83|    2537.45|NormalScreen|       Yes|220.5346239|Intel Core i7|  0|512|      AMD|               Mac|\n",
      "|  Apple|Ultrabook|  8|macOS|  1.37|     1803.6|NormalScreen|       Yes|226.9830047|Intel Core i5|  0|256|    Intel|               Mac|\n",
      "+-------+---------+---+-----+------+-----------+------------+----------+-----------+-------------+---+---+---------+------------------+\n",
      "only showing top 5 rows\n",
      "\n"
     ]
    }
   ],
   "source": [
    "data.show(5)"
   ]
  },
  {
   "cell_type": "code",
   "execution_count": 5,
   "metadata": {},
   "outputs": [
    {
     "name": "stdout",
     "output_type": "stream",
     "text": [
      "root\n",
      " |-- Company: string (nullable = true)\n",
      " |-- TypeName: string (nullable = true)\n",
      " |-- Ram: integer (nullable = true)\n",
      " |-- OpSys: string (nullable = true)\n",
      " |-- Weight: double (nullable = true)\n",
      " |-- Price_euros: double (nullable = true)\n",
      " |-- Screen: string (nullable = true)\n",
      " |-- IPS Screen: string (nullable = true)\n",
      " |-- Screen PPI: double (nullable = true)\n",
      " |-- Cpu_brand: string (nullable = true)\n",
      " |-- HDD: integer (nullable = true)\n",
      " |-- SSD: integer (nullable = true)\n",
      " |-- Gpu brand: string (nullable = true)\n",
      " |-- os: string (nullable = true)\n",
      "\n"
     ]
    }
   ],
   "source": [
    "data.printSchema()"
   ]
  },
  {
   "cell_type": "code",
   "execution_count": 6,
   "metadata": {},
   "outputs": [
    {
     "name": "stderr",
     "output_type": "stream",
     "text": [
      "25/01/27 11:09:16 WARN SparkStringUtils: Truncated the string representation of a plan since it was too large. This behavior can be adjusted by setting 'spark.sql.debug.maxToStringFields'.\n"
     ]
    },
    {
     "name": "stdout",
     "output_type": "stream",
     "text": [
      "+-------+-------+------------------+-----------------+-------+------------------+-----------------+------------+----------+------------------+--------------------+------------------+------------------+---------+-------+\n",
      "|summary|Company|          TypeName|              Ram|  OpSys|            Weight|      Price_euros|      Screen|IPS Screen|        Screen PPI|           Cpu_brand|               HDD|               SSD|Gpu brand|     os|\n",
      "+-------+-------+------------------+-----------------+-------+------------------+-----------------+------------+----------+------------------+--------------------+------------------+------------------+---------+-------+\n",
      "|  count|   1302|              1302|             1302|   1302|              1302|             1302|        1302|      1302|              1302|                1302|              1302|              1302|     1302|   1302|\n",
      "|   mean|   NULL|              NULL|8.385560675883257|   NULL|2.0394162826420885|1124.043894009217|        NULL|      NULL|146.56849708305953|                NULL|414.10138248847926|183.87403993855608|     NULL|   NULL|\n",
      "| stddev|   NULL|              NULL|  5.0851661818099|   NULL|0.6652738274340289|699.1588563496215|        NULL|      NULL|43.069015673066325|                NULL|  515.889347705222|186.96931426157056|     NULL|   NULL|\n",
      "|    min|   Acer|2 in 1 Convertible|                2|Android|              0.69|            174.0|NormalScreen|        No|       90.58340172|       AMD Processor|                 0|                 0|      AMD|    Mac|\n",
      "|    max| Xiaomi|       Workstation|               64|  macOS|               4.7|           6099.0| TouchScreen|       Yes|       352.4651472|Other Intel Proce...|              2000|              1024|   Nvidia|Windows|\n",
      "+-------+-------+------------------+-----------------+-------+------------------+-----------------+------------+----------+------------------+--------------------+------------------+------------------+---------+-------+\n",
      "\n"
     ]
    }
   ],
   "source": [
    "data.describe().show()"
   ]
  },
  {
   "cell_type": "code",
   "execution_count": 7,
   "metadata": {},
   "outputs": [],
   "source": [
    "from pyspark.sql.functions import log, col\n",
    "data = data.withColumn(\"log_price\", log(col(\"Price_euros\")))"
   ]
  },
  {
   "cell_type": "markdown",
   "metadata": {},
   "source": [
    "## Check for missing values"
   ]
  },
  {
   "cell_type": "code",
   "execution_count": 8,
   "metadata": {},
   "outputs": [
    {
     "name": "stdout",
     "output_type": "stream",
     "text": [
      "+-------+--------+---+-----+------+-----------+------+----------+----------+---------+---+---+---------+---+---------+\n",
      "|Company|TypeName|Ram|OpSys|Weight|Price_euros|Screen|IPS Screen|Screen PPI|Cpu_brand|HDD|SSD|Gpu brand| os|log_price|\n",
      "+-------+--------+---+-----+------+-----------+------+----------+----------+---------+---+---+---------+---+---------+\n",
      "|      0|       0|  0|    0|     0|          0|     0|         0|         0|        0|  0|  0|        0|  0|        0|\n",
      "+-------+--------+---+-----+------+-----------+------+----------+----------+---------+---+---+---------+---+---------+\n",
      "\n"
     ]
    }
   ],
   "source": [
    "data.select([\n",
    "    count(when(isnull(c), c)).alias(c) for c in data.columns\n",
    "]).show()"
   ]
  },
  {
   "cell_type": "markdown",
   "metadata": {},
   "source": [
    "## Visualize correlation for numeric cols\n"
   ]
  },
  {
   "cell_type": "code",
   "execution_count": 9,
   "metadata": {},
   "outputs": [],
   "source": [
    "# Check for numeric data types\n",
    "numeric_cols = [\"Ram\", \"Weight\", \"HDD\", \"SSD\", \"log_price\"]\n",
    "pdf = data.select(numeric_cols).toPandas()"
   ]
  },
  {
   "cell_type": "code",
   "execution_count": 10,
   "metadata": {},
   "outputs": [
    {
     "data": {
      "image/png": "[encoded data removed]",
      "text/plain": [
       "<Figure size 600x400 with 2 Axes>"
      ]
     },
     "metadata": {},
     "output_type": "display_data"
    }
   ],
   "source": [
    "plt.figure(figsize=(6, 4))\n",
    "corr = pdf.corr()\n",
    "sns.heatmap(corr, annot=True, cmap=\"coolwarm\", fmt=\".2f\")\n",
    "plt.title(\"Correlation Matrix of Numeric Features\")\n",
    "plt.show()"
   ]
  },
  {
   "cell_type": "markdown",
   "metadata": {},
   "source": [
    "### Insights from Correlation Matrix\n",
    "\n",
    "- **Ram** and **SSD** are the most influential numeric features for determining price.\n",
    "- **HDD** and **Weight** have minimal impact on pricing and might not be strong predictors for the model."
   ]
  },
  {
   "cell_type": "code",
   "execution_count": 11,
   "metadata": {},
   "outputs": [
    {
     "data": {
      "image/png": "[encoded data removed]",
      "text/plain": [
       "<Figure size 1200x500 with 2 Axes>"
      ]
     },
     "metadata": {},
     "output_type": "display_data"
    }
   ],
   "source": [
    "# Convert to Pandas for visualization\n",
    "price_distribution = data.select(\"Price_euros\", \"log_price\").toPandas()\n",
    "\n",
    "plt.figure(figsize=(12, 5))\n",
    "\n",
    "# Distribution of Price_euros\n",
    "plt.subplot(1, 2, 1)\n",
    "sns.histplot(price_distribution[\"Price_euros\"], kde=True, bins=30, color='skyblue')\n",
    "plt.title(\"Distribution of Price_euros\")\n",
    "plt.xlabel(\"Price (Euros)\")\n",
    "plt.ylabel(\"Frequency\")\n",
    "\n",
    "# Distribution of log_price\n",
    "plt.subplot(1, 2, 2)\n",
    "sns.histplot(price_distribution[\"log_price\"], kde=True, bins=30, color='salmon')\n",
    "plt.title(\"Distribution of log_price\")\n",
    "plt.xlabel(\"Log Price\")\n",
    "plt.ylabel(\"Frequency\")\n",
    "\n",
    "plt.tight_layout()\n",
    "plt.show()\n"
   ]
  },
  {
   "cell_type": "markdown",
   "metadata": {},
   "source": [
    "### Insight for Distribution Visualization\n",
    "\n",
    "1. **Price Distribution**:\n",
    "   - The left plot shows the distribution of laptop prices (`Price_euros`), which is right-skewed.\n",
    "   - This indicates that most laptops are priced in the lower range, with fewer laptops in the high-price range.\n",
    "\n",
    "2. **Log-transformed Price Distribution**:\n",
    "   - The right plot represents the distribution of log-transformed prices (`log_price`), which approximates a normal distribution.\n",
    "   - The transformation reduces the skewness, making the data more suitable for machine learning models like linear regression, which assume normally distributed data."
   ]
  },
  {
   "cell_type": "markdown",
   "metadata": {},
   "source": [
    "## EDA for category cols"
   ]
  },
  {
   "cell_type": "code",
   "execution_count": 12,
   "metadata": {},
   "outputs": [
    {
     "name": "stdout",
     "output_type": "stream",
     "text": [
      "Distinct values in column 'Company':\n",
      "+-------+\n",
      "|Company|\n",
      "+-------+\n",
      "|Razer  |\n",
      "|Fujitsu|\n",
      "|Huawei |\n",
      "|Xiaomi |\n",
      "|HP     |\n",
      "|Dell   |\n",
      "|Vero   |\n",
      "|Acer   |\n",
      "|Asus   |\n",
      "|Lenovo |\n",
      "+-------+\n",
      "only showing top 10 rows\n",
      "\n",
      "Distinct values in column 'TypeName':\n",
      "+------------------+\n",
      "|TypeName          |\n",
      "+------------------+\n",
      "|Gaming            |\n",
      "|Ultrabook         |\n",
      "|2 in 1 Convertible|\n",
      "|Workstation       |\n",
      "|Notebook          |\n",
      "|Netbook           |\n",
      "+------------------+\n",
      "\n",
      "Distinct values in column 'OpSys':\n",
      "+------------+\n",
      "|OpSys       |\n",
      "+------------+\n",
      "|Windows 10  |\n",
      "|Linux       |\n",
      "|macOS       |\n",
      "|Chrome OS   |\n",
      "|Android     |\n",
      "|Windows 10 S|\n",
      "|Windows 7   |\n",
      "|Mac OS X    |\n",
      "|No OS       |\n",
      "+------------+\n",
      "\n",
      "Distinct values in column 'Cpu_brand':\n",
      "+---------------------+\n",
      "|Cpu_brand            |\n",
      "+---------------------+\n",
      "|Intel Core i3        |\n",
      "|Other Intel Processor|\n",
      "|Intel Core i5        |\n",
      "|Intel Core i7        |\n",
      "|AMD Processor        |\n",
      "+---------------------+\n",
      "\n",
      "Distinct values in column 'Gpu brand':\n",
      "+---------+\n",
      "|Gpu brand|\n",
      "+---------+\n",
      "|AMD      |\n",
      "|Intel    |\n",
      "|Nvidia   |\n",
      "+---------+\n",
      "\n",
      "Distinct values in column 'os':\n",
      "+------------------+\n",
      "|os                |\n",
      "+------------------+\n",
      "|Others/No OS/Linux|\n",
      "|Mac               |\n",
      "|Windows           |\n",
      "+------------------+\n",
      "\n"
     ]
    }
   ],
   "source": [
    "cat_cols = [\"Company\", \"TypeName\", \"OpSys\", \"Cpu_brand\", \"Gpu brand\", \"os\"] \n",
    "\n",
    "for c in cat_cols:\n",
    "    print(f\"Distinct values in column '{c}':\")\n",
    "    data.select(c).distinct().show(10, truncate=False)"
   ]
  },
  {
   "cell_type": "code",
   "execution_count": 13,
   "metadata": {},
   "outputs": [
    {
     "name": "stdout",
     "output_type": "stream",
     "text": [
      "+---------+------------------+\n",
      "|  Company|    avg(log_price)|\n",
      "+---------+------------------+\n",
      "|    Razer| 7.964966609217099|\n",
      "|       LG| 7.646176185132034|\n",
      "|      MSI|  7.40777869627335|\n",
      "|   Google| 7.399419772401688|\n",
      "|Microsoft| 7.329448479496903|\n",
      "|    Apple| 7.299084262421179|\n",
      "|   Huawei| 7.259836177155177|\n",
      "|  Samsung| 7.198162452722439|\n",
      "|  Toshiba| 7.069107604505439|\n",
      "|   Xiaomi| 7.020409189744467|\n",
      "|     Dell|  6.93485666581858|\n",
      "|       HP|  6.81352488959046|\n",
      "|     Asus| 6.798249349824068|\n",
      "|   Lenovo|6.7953878739557565|\n",
      "|  Fujitsu| 6.588030527806189|\n",
      "|     Acer| 6.313447590194079|\n",
      "|    Chuwi| 5.708430496833663|\n",
      "| Mediacom|5.6699613400843605|\n",
      "|     Vero| 5.375604838436256|\n",
      "+---------+------------------+\n",
      "\n",
      "+------------------+-----------------+\n",
      "|          TypeName|   avg(log_price)|\n",
      "+------------------+-----------------+\n",
      "|       Workstation|7.691272056553637|\n",
      "|            Gaming|7.365137731461081|\n",
      "|         Ultrabook|7.292958432651067|\n",
      "|2 in 1 Convertible|7.030947480733804|\n",
      "|          Notebook|6.528257076243808|\n",
      "|           Netbook| 6.11498989199044|\n",
      "+------------------+-----------------+\n",
      "\n",
      "+------------+------------------+\n",
      "|       OpSys|    avg(log_price)|\n",
      "+------------+------------------+\n",
      "|       macOS|7.4150180194210185|\n",
      "|   Windows 7| 7.342719593113178|\n",
      "|    Mac OS X| 7.110691907296437|\n",
      "|Windows 10 S| 6.929152704551533|\n",
      "|  Windows 10| 6.892227402872335|\n",
      "|       Linux| 6.336351460834165|\n",
      "|       No OS| 6.280223473639043|\n",
      "|   Chrome OS| 6.074051488983409|\n",
      "|     Android| 6.036644772147188|\n",
      "+------------+------------------+\n",
      "\n",
      "+--------------------+------------------+\n",
      "|           Cpu_brand|    avg(log_price)|\n",
      "+--------------------+------------------+\n",
      "|       Intel Core i7| 7.285843092353446|\n",
      "|       Intel Core i5| 6.857347921307675|\n",
      "|       Intel Core i3|  6.26427933948762|\n",
      "|       AMD Processor| 6.215012576625676|\n",
      "|Other Intel Proce...|6.0219549772839445|\n",
      "+--------------------+------------------+\n",
      "\n",
      "+---------+-----------------+\n",
      "|Gpu brand|   avg(log_price)|\n",
      "+---------+-----------------+\n",
      "|   Nvidia| 7.17691961345311|\n",
      "|    Intel|6.727789979539768|\n",
      "|      AMD|6.537328367762733|\n",
      "+---------+-----------------+\n",
      "\n",
      "+------------------+-----------------+\n",
      "|                os|   avg(log_price)|\n",
      "+------------------+-----------------+\n",
      "|               Mac|7.299084262421179|\n",
      "|           Windows|6.910509670405019|\n",
      "|Others/No OS/Linux| 6.26504594929332|\n",
      "+------------------+-----------------+\n",
      "\n"
     ]
    }
   ],
   "source": [
    "for c in cat_cols:\n",
    "    data.groupBy(c).agg({\"log_price\": \"mean\"}).orderBy(\"avg(log_price)\", ascending=False).show()"
   ]
  },
  {
   "cell_type": "markdown",
   "metadata": {},
   "source": [
    "## Select features"
   ]
  },
  {
   "cell_type": "code",
   "execution_count": 14,
   "metadata": {},
   "outputs": [],
   "source": [
    "indexers = [\n",
    "    StringIndexer(inputCol=c, outputCol=c + \"_indexed\")\n",
    "    for c in cat_cols\n",
    "]"
   ]
  },
  {
   "cell_type": "code",
   "execution_count": 15,
   "metadata": {},
   "outputs": [],
   "source": [
    "encoders = [\n",
    "    OneHotEncoder(inputCol=c + \"_indexed\", outputCol=c + \"_encoded\")\n",
    "    for c in cat_cols\n",
    "]"
   ]
  },
  {
   "cell_type": "code",
   "execution_count": 16,
   "metadata": {},
   "outputs": [],
   "source": [
    "selected_features = [c + \"_encoded\" for c in cat_cols] + [\"Ram\", \"SSD\"]\n",
    "assembler = VectorAssembler(\n",
    "    inputCols=selected_features,\n",
    "    outputCol=\"features\"\n",
    ")"
   ]
  },
  {
   "cell_type": "code",
   "execution_count": 17,
   "metadata": {},
   "outputs": [],
   "source": [
    "## Build pipeline with indexers + encoders + assembler\n",
    "pipeline_stages = []\n",
    "pipeline_stages.extend(indexers)\n",
    "pipeline_stages.extend(encoders)\n",
    "pipeline_stages.append(assembler)\n",
    "\n",
    "pipeline = Pipeline(stages=pipeline_stages)\n"
   ]
  },
  {
   "cell_type": "code",
   "execution_count": 18,
   "metadata": {},
   "outputs": [],
   "source": [
    "# Fit the pipeline and transform data\n",
    "model_pipeline = pipeline.fit(data)\n",
    "final_data = model_pipeline.transform(data)"
   ]
  },
  {
   "cell_type": "markdown",
   "metadata": {},
   "source": [
    "## Split data"
   ]
  },
  {
   "cell_type": "code",
   "execution_count": 19,
   "metadata": {},
   "outputs": [],
   "source": [
    "train_data, test_data = final_data.randomSplit([0.8, 0.2], seed=42)\n"
   ]
  },
  {
   "cell_type": "markdown",
   "metadata": {},
   "source": [
    "## Build Models"
   ]
  },
  {
   "cell_type": "code",
   "execution_count": 20,
   "metadata": {},
   "outputs": [
    {
     "name": "stderr",
     "output_type": "stream",
     "text": [
      "25/01/27 11:09:22 WARN Instrumentation: [64878b0f] regParam is zero, which might cause numerical instability and overfitting.\n",
      "25/01/27 11:09:22 WARN InstanceBuilder: Failed to load implementation from:dev.ludovic.netlib.blas.JNIBLAS\n",
      "25/01/27 11:09:22 WARN InstanceBuilder: Failed to load implementation from:dev.ludovic.netlib.lapack.JNILAPACK\n",
      "25/01/27 11:09:22 WARN Instrumentation: [64878b0f] Cholesky solver failed due to singular covariance matrix. Retrying with Quasi-Newton solver.\n"
     ]
    }
   ],
   "source": [
    "# Linear Regression\n",
    "lr = LinearRegression(featuresCol=\"features\", labelCol=\"log_price\")\n",
    "lr_model = lr.fit(train_data)\n",
    "\n",
    "# Random Forest Regressor\n",
    "rf = RandomForestRegressor(featuresCol=\"features\", labelCol=\"log_price\", numTrees=100)\n",
    "rf_model = rf.fit(train_data)"
   ]
  },
  {
   "cell_type": "markdown",
   "metadata": {},
   "source": [
    "## Evaluate and comare"
   ]
  },
  {
   "cell_type": "code",
   "execution_count": 21,
   "metadata": {},
   "outputs": [
    {
     "name": "stderr",
     "output_type": "stream",
     "text": [
      "WARNING: An illegal reflective access operation has occurred\n",
      "WARNING: Illegal reflective access by org.apache.spark.util.SizeEstimator$ (file:/Library/Frameworks/Python.framework/Versions/3.10/lib/python3.10/site-packages/pyspark/jars/spark-core_2.12-3.5.4.jar) to field java.nio.charset.Charset.name\n",
      "WARNING: Please consider reporting this to the maintainers of org.apache.spark.util.SizeEstimator$\n",
      "WARNING: Use --illegal-access=warn to enable warnings of further illegal reflective access operations\n",
      "WARNING: All illegal access operations will be denied in a future release\n"
     ]
    },
    {
     "name": "stdout",
     "output_type": "stream",
     "text": [
      "Linear Regression RMSE =  0.273541600058023\n",
      "Random Forest RMSE =  0.28887394605409644\n"
     ]
    }
   ],
   "source": [
    "evaluator_rmse = RegressionEvaluator(\n",
    "    predictionCol=\"prediction\",\n",
    "    labelCol=\"log_price\",\n",
    "    metricName=\"rmse\"\n",
    ")\n",
    "\n",
    "# Predictions\n",
    "lr_predictions = lr_model.transform(test_data)\n",
    "rf_predictions = rf_model.transform(test_data)\n",
    "\n",
    "# Evaluate RMSE\n",
    "lr_rmse = evaluator_rmse.evaluate(lr_predictions)\n",
    "rf_rmse = evaluator_rmse.evaluate(rf_predictions)\n",
    "\n",
    "print(\"Linear Regression RMSE = \", lr_rmse)\n",
    "print(\"Random Forest RMSE = \", rf_rmse)\n"
   ]
  },
  {
   "cell_type": "code",
   "execution_count": 22,
   "metadata": {},
   "outputs": [
    {
     "name": "stdout",
     "output_type": "stream",
     "text": [
      "Linear Regression R2 =  0.8045306194165535\n",
      "Random Forest R2 =  0.7820039026400636\n"
     ]
    }
   ],
   "source": [
    "evaluator_r2 = RegressionEvaluator(\n",
    "    predictionCol=\"prediction\",\n",
    "    labelCol=\"log_price\",\n",
    "    metricName=\"r2\"\n",
    ")\n",
    "\n",
    "lr_r2 = evaluator_r2.evaluate(lr_predictions)\n",
    "rf_r2 = evaluator_r2.evaluate(rf_predictions)\n",
    "\n",
    "print(\"Linear Regression R2 = \", lr_r2)\n",
    "print(\"Random Forest R2 = \", rf_r2)"
   ]
  },
  {
   "cell_type": "markdown",
   "metadata": {},
   "source": [
    "### Insights\n",
    "\n",
    "1. **Linear Regression**:\n",
    "   - **R2 Score**: 0.8045, indicating the model explains ~80.45% of the variance in `log_price`.\n",
    "   - **RMSE**: Lower RMSE compared to Random Forest, showing better predictive accuracy.\n",
    "\n",
    "2. **Random Forest**:\n",
    "   - **R2 Score**: 0.7831, slightly lower than Linear Regression, explaining ~78.31% of the variance in `log_price`.\n",
    "   - **RMSE**: Higher RMSE than Linear Regression, indicating slightly less accurate predictions.\n",
    "\n",
    "3. **Best Model**:\n",
    "   - Based on RMSE, **Linear Regression** is the better model for this dataset, providing more precise predictions with less error."
   ]
  },
  {
   "cell_type": "markdown",
   "metadata": {},
   "source": [
    "## Compare which one is better for this dataset"
   ]
  },
  {
   "cell_type": "code",
   "execution_count": 23,
   "metadata": {},
   "outputs": [
    {
     "name": "stdout",
     "output_type": "stream",
     "text": [
      "Best model is: LinearRegression\n"
     ]
    }
   ],
   "source": [
    "if rf_rmse < lr_rmse:\n",
    "    best_model = rf_model\n",
    "    model_name = \"RandomForestRegressor\"\n",
    "else:\n",
    "    best_model = lr_model\n",
    "    model_name = \"LinearRegression\"\n",
    "\n",
    "print(f\"Best model is: {model_name}\")"
   ]
  },
  {
   "cell_type": "markdown",
   "metadata": {},
   "source": [
    "## Make prediction with new laptop"
   ]
  },
  {
   "cell_type": "code",
   "execution_count": 24,
   "metadata": {},
   "outputs": [],
   "source": [
    "from pyspark.sql import Row\n",
    "\n",
    "new_laptop = {\n",
    "    \"Company\": \"Apple\",\n",
    "    \"TypeName\": \"Ultrabook\",\n",
    "    \"Ram\": 8,\n",
    "    \"OpSys\": \"macOS\",\n",
    "    \"Weight\": 1.34,\n",
    "    \"Screen\": \"NormalScreen\",\n",
    "    \"IPS Screen\": \"Yes\",\n",
    "    \"Screen PPI\": 127.677,\n",
    "    \"Cpu_brand\": \"Intel Core i7\",\n",
    "    \"HDD\": 0,\n",
    "    \"SSD\": 128,\n",
    "    \"Gpu brand\": \"AMD\",\n",
    "    \"os\": \"Mac\"\n",
    "}"
   ]
  },
  {
   "cell_type": "code",
   "execution_count": 25,
   "metadata": {},
   "outputs": [],
   "source": [
    "new_laptop_df = spark.createDataFrame([Row(**new_laptop)])\n",
    "\n",
    "final_new_laptop = model_pipeline.transform(new_laptop_df)\n",
    "\n",
    "prediction = best_model.transform(final_new_laptop)"
   ]
  },
  {
   "cell_type": "code",
   "execution_count": 26,
   "metadata": {},
   "outputs": [
    {
     "name": "stdout",
     "output_type": "stream",
     "text": [
      "+-----------------+------------------+\n",
      "|       prediction|    exp_prediction|\n",
      "+-----------------+------------------+\n",
      "|7.296724199729857|1475.4586944674656|\n",
      "+-----------------+------------------+\n",
      "\n"
     ]
    }
   ],
   "source": [
    "import pyspark.sql.functions as F\n",
    "\n",
    "# Suppose \"prediction\" is your log-space prediction\n",
    "prediction = prediction.withColumn(\"exp_prediction\", F.exp(F.col(\"prediction\")))\n",
    "\n",
    "# Show both log prediction and exponentiated (original scale) price\n",
    "prediction.select(\"prediction\", \"exp_prediction\").show()"
   ]
  }
 ],
 "metadata": {
  "kernelspec": {
   "display_name": "Python 3",
   "language": "python",
   "name": "python3"
  },
  "language_info": {
   "codemirror_mode": {
    "name": "ipython",
    "version": 3
   },
   "file_extension": ".py",
   "mimetype": "text/x-python",
   "name": "python",
   "nbconvert_exporter": "python",
   "pygments_lexer": "ipython3",
   "version": "3.10.11"
  }
 },
 "nbformat": 4,
 "nbformat_minor": 2
}
